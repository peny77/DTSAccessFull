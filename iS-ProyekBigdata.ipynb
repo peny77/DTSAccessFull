{
 "cells": [
  {
   "cell_type": "markdown",
   "metadata": {},
   "source": [
    "# PROJECT2 . COLLECTING DATA"
   ]
  },
  {
   "cell_type": "markdown",
   "metadata": {},
   "source": [
    "# DATA 1"
   ]
  },
  {
   "cell_type": "markdown",
   "metadata": {},
   "source": [
    "Menurut Anda apakah data di atas dapat didekati dengan model regresi linear? Jelaskan\n",
    "pendapat Anda, beri penjelasan mana variable independen dan mana variable dependen"
   ]
  },
  {
   "cell_type": "markdown",
   "metadata": {},
   "source": [
    "<ul>\n",
    "    <li>Variabel Indenpenden = Biaya Iklan</li>\n",
    "    <li>Variabel Dpenden     = Pendapatan</li>\n",
    "</ul>"
   ]
  },
  {
   "cell_type": "markdown",
   "metadata": {},
   "source": [
    "Terapkan model regresi linear dan beberapa model regresi non linear, manakah yang terbaik\n",
    "berdasarkan MAE, MSE, dan R2"
   ]
  },
  {
   "cell_type": "code",
   "execution_count": 1,
   "metadata": {},
   "outputs": [],
   "source": [
    "#pip install -U scikit-learn"
   ]
  },
  {
   "cell_type": "code",
   "execution_count": 2,
   "metadata": {},
   "outputs": [
    {
     "data": {
      "text/html": [
       "<div>\n",
       "<style scoped>\n",
       "    .dataframe tbody tr th:only-of-type {\n",
       "        vertical-align: middle;\n",
       "    }\n",
       "\n",
       "    .dataframe tbody tr th {\n",
       "        vertical-align: top;\n",
       "    }\n",
       "\n",
       "    .dataframe thead th {\n",
       "        text-align: right;\n",
       "    }\n",
       "</style>\n",
       "<table border=\"1\" class=\"dataframe\">\n",
       "  <thead>\n",
       "    <tr style=\"text-align: right;\">\n",
       "      <th></th>\n",
       "      <th>biaya_iklan</th>\n",
       "      <th>pendapatan</th>\n",
       "    </tr>\n",
       "  </thead>\n",
       "  <tbody>\n",
       "    <tr>\n",
       "      <th>0</th>\n",
       "      <td>10.0</td>\n",
       "      <td>2244.366205</td>\n",
       "    </tr>\n",
       "    <tr>\n",
       "      <th>1</th>\n",
       "      <td>11.2</td>\n",
       "      <td>1473.934847</td>\n",
       "    </tr>\n",
       "    <tr>\n",
       "      <th>2</th>\n",
       "      <td>12.4</td>\n",
       "      <td>1893.448438</td>\n",
       "    </tr>\n",
       "    <tr>\n",
       "      <th>3</th>\n",
       "      <td>13.6</td>\n",
       "      <td>1665.540897</td>\n",
       "    </tr>\n",
       "    <tr>\n",
       "      <th>4</th>\n",
       "      <td>14.8</td>\n",
       "      <td>1931.386153</td>\n",
       "    </tr>\n",
       "    <tr>\n",
       "      <th>5</th>\n",
       "      <td>16.0</td>\n",
       "      <td>1789.442439</td>\n",
       "    </tr>\n",
       "    <tr>\n",
       "      <th>6</th>\n",
       "      <td>17.2</td>\n",
       "      <td>2344.919817</td>\n",
       "    </tr>\n",
       "    <tr>\n",
       "      <th>7</th>\n",
       "      <td>18.4</td>\n",
       "      <td>1961.630387</td>\n",
       "    </tr>\n",
       "    <tr>\n",
       "      <th>8</th>\n",
       "      <td>19.6</td>\n",
       "      <td>1687.757462</td>\n",
       "    </tr>\n",
       "    <tr>\n",
       "      <th>9</th>\n",
       "      <td>20.8</td>\n",
       "      <td>2716.530200</td>\n",
       "    </tr>\n",
       "  </tbody>\n",
       "</table>\n",
       "</div>"
      ],
      "text/plain": [
       "   biaya_iklan   pendapatan\n",
       "0         10.0  2244.366205\n",
       "1         11.2  1473.934847\n",
       "2         12.4  1893.448438\n",
       "3         13.6  1665.540897\n",
       "4         14.8  1931.386153\n",
       "5         16.0  1789.442439\n",
       "6         17.2  2344.919817\n",
       "7         18.4  1961.630387\n",
       "8         19.6  1687.757462\n",
       "9         20.8  2716.530200"
      ]
     },
     "execution_count": 2,
     "metadata": {},
     "output_type": "execute_result"
    }
   ],
   "source": [
    "import numpy as np\n",
    "import pandas as pd\n",
    "import matplotlib.pyplot as plt\n",
    "\n",
    "dataset = pd.read_csv(\"advertising.csv\")\n",
    "dataset.head(10)"
   ]
  },
  {
   "cell_type": "code",
   "execution_count": 3,
   "metadata": {},
   "outputs": [
    {
     "data": {
      "text/plain": [
       "(100, 2)"
      ]
     },
     "execution_count": 3,
     "metadata": {},
     "output_type": "execute_result"
    }
   ],
   "source": [
    "dataset.shape"
   ]
  },
  {
   "cell_type": "code",
   "execution_count": 4,
   "metadata": {},
   "outputs": [
    {
     "data": {
      "image/png": "[encoded data removed]",
      "text/plain": [
       "<Figure size 504x360 with 1 Axes>"
      ]
     },
     "metadata": {
      "needs_background": "light"
     },
     "output_type": "display_data"
    }
   ],
   "source": [
    "plt.figure(figsize=(7,5))\n",
    "x_data, y_data = (dataset[\"biaya_iklan\"].values, dataset[\"pendapatan\"].values)\n",
    "plt.plot(x_data, y_data, 'ro')\n",
    "plt.ylabel('Pendapatan')\n",
    "plt.xlabel('Biaya Iklan')\n",
    "plt.show()"
   ]
  },
  {
   "cell_type": "markdown",
   "metadata": {},
   "source": [
    "#### Linear Regression"
   ]
  },
  {
   "cell_type": "code",
   "execution_count": 5,
   "metadata": {},
   "outputs": [
    {
     "data": {
      "image/png": "[encoded data removed]",
      "text/plain": [
       "<Figure size 432x288 with 1 Axes>"
      ]
     },
     "metadata": {
      "needs_background": "light"
     },
     "output_type": "display_data"
    }
   ],
   "source": [
    "# Mengimpor library\n",
    "import numpy as np\n",
    "import matplotlib.pyplot as plt\n",
    "import pandas as pd\n",
    "\n",
    "# Mengimpor dataset\n",
    "dataset = pd.read_csv('advertising.csv')\n",
    "X = dataset.iloc[:, 0:1].values\n",
    "y = dataset.iloc[:, 1].values\n",
    "\n",
    "# Fitting Linear Regression ke dataset\n",
    "from sklearn.linear_model import LinearRegression\n",
    "lin_reg = LinearRegression()\n",
    "lin_reg.fit(X, y)\n",
    "\n",
    "# Visualisasi hasil regresi sederhana\n",
    "plt.scatter(X, y, color = 'red')\n",
    "plt.plot(X, lin_reg.predict(X), color = 'blue')\n",
    "plt.title('(Linear Regression)')\n",
    "plt.xlabel('Biaya Iklan')\n",
    "plt.ylabel('Pendapatan')\n",
    "plt.show()"
   ]
  },
  {
   "cell_type": "markdown",
   "metadata": {},
   "source": [
    "#### Polynomial Regression"
   ]
  },
  {
   "cell_type": "code",
   "execution_count": 15,
   "metadata": {},
   "outputs": [
    {
     "data": {
      "image/png": "[encoded data removed]",
      "text/plain": [
       "<Figure size 432x288 with 1 Axes>"
      ]
     },
     "metadata": {
      "needs_background": "light"
     },
     "output_type": "display_data"
    }
   ],
   "source": [
    "# Mengimpor library\n",
    "import numpy as np\n",
    "import matplotlib.pyplot as plt\n",
    "import pandas as pd\n",
    " \n",
    "# Mengimpor dataset\n",
    "dataset = pd.read_csv('advertising.csv')\n",
    "x = dataset.iloc[:, 0:1].values\n",
    "y = dataset.iloc[:, 1].values\n",
    "\n",
    "# Fitting Polynomial Regression ke dataset\n",
    "from sklearn.preprocessing import PolynomialFeatures\n",
    "poly_reg = PolynomialFeatures(degree = 9)  # Gonta Ganti\n",
    "X_poly = poly_reg.fit_transform(X)\n",
    "lin_reg = LinearRegression()\n",
    "lin_reg.fit(X_poly, y)\n",
    "\n",
    "# Visualisasi hasil regresi polynomial\n",
    "plt.scatter(X, y, color = 'red')\n",
    "plt.plot(X, lin_reg.predict(X_poly), color = 'blue')\n",
    "plt.title('(Polynomial Regression)')\n",
    "plt.xlabel('Biaya Iklan')\n",
    "plt.ylabel('Pendapatan')\n",
    "plt.show()\n",
    "\n",
    "# Memprediksi hasil dengan regresi polynomial\n",
    "#lin_reg.predict(poly_reg.fit_transform(0.1))"
   ]
  },
  {
   "cell_type": "code",
   "execution_count": 16,
   "metadata": {},
   "outputs": [],
   "source": [
    "from sklearn.model_selection import train_test_split\n",
    "x_train, x_test, y_train, y_test = train_test_split(x,y)"
   ]
  },
  {
   "cell_type": "code",
   "execution_count": 17,
   "metadata": {},
   "outputs": [
    {
     "name": "stdout",
     "output_type": "stream",
     "text": [
      "Y-Intercept       =  2302.618742178054\n",
      "Beta Coefficients =  [20.61814735]\n",
      "Zip =     biaya_iklan   pendapatan\n",
      "0          10.0  2244.366205\n",
      "1          11.2  1473.934847\n",
      "2          12.4  1893.448438\n",
      "3          13.6  1665.540897\n",
      "4          14.8  1931.386153\n",
      "5          16.0  1789.442439\n",
      "6          17.2  2344.919817\n",
      "7          18.4  1961.630387\n",
      "8          19.6  1687.757462\n",
      "9          20.8  2716.530200\n",
      "10         22.0  2131.628094\n",
      "11         23.2  2128.157429\n",
      "12         24.4  2171.308975\n",
      "13         25.6  3031.098827\n",
      "14         26.8  1892.724661\n",
      "15         28.0  2106.089108\n",
      "16         29.2  3560.560599\n",
      "17         30.4  1969.934978\n",
      "18         31.6  2202.979516\n",
      "19         32.8  3182.091137\n",
      "20         34.0  3060.763527\n",
      "21         35.2  3072.377419\n",
      "22         36.4  3021.211910\n",
      "23         37.6  2370.952475\n",
      "24         38.8  3304.333763\n",
      "25         40.0  3290.486238\n",
      "26         41.2  4525.120746\n",
      "27         42.4  3333.447047\n",
      "28         43.6  3939.829342\n",
      "29         44.8  2676.361205\n",
      "..          ...          ...\n",
      "70         94.0  4848.835060\n",
      "71         95.2  4350.366610\n",
      "72         96.4  4229.544432\n",
      "73         97.6  4245.097436\n",
      "74         98.8  4902.597828\n",
      "75        100.0  4076.255842\n",
      "76        101.2  4597.407969\n",
      "77        102.4  4065.019339\n",
      "78        103.6  4064.494194\n",
      "79        104.8  4524.328809\n",
      "80        106.0  4155.713828\n",
      "81        107.2  3986.274236\n",
      "82        108.4  4755.853193\n",
      "83        109.6  4138.776839\n",
      "84        110.8  4338.273868\n",
      "85        112.0  3708.814390\n",
      "86        113.2  4827.509064\n",
      "87        114.4  5315.135710\n",
      "88        115.6  4438.039513\n",
      "89        116.8  3804.080099\n",
      "90        118.0  3607.124893\n",
      "91        119.2  5096.445309\n",
      "92        120.4  4849.950670\n",
      "93        121.6  4258.946678\n",
      "94        122.8  5578.343010\n",
      "95        124.0  3717.150864\n",
      "96        125.2  4225.439726\n",
      "97        126.4  3801.249621\n",
      "98        127.6  4556.931624\n",
      "99        128.8  4035.849249\n",
      "\n",
      "[100 rows x 2 columns] [20.61814735]\n"
     ]
    }
   ],
   "source": [
    "from sklearn.linear_model import LinearRegression\n",
    "linreg = LinearRegression() #Instantiate\n",
    "linreg.fit(x_train, y_train) #Fit Model\n",
    "\n",
    "print('Y-Intercept       = ',linreg.intercept_)\n",
    "print('Beta Coefficients = ',linreg.coef_)\n",
    "print('Zip =',dataset,linreg.coef_)"
   ]
  },
  {
   "cell_type": "code",
   "execution_count": 18,
   "metadata": {},
   "outputs": [],
   "source": [
    "y_pred = linreg.predict(x_test) #Prediksi Model"
   ]
  },
  {
   "cell_type": "code",
   "execution_count": 19,
   "metadata": {},
   "outputs": [
    {
     "name": "stdout",
     "output_type": "stream",
     "text": [
      "Mean Absolute Error (MAE) = 592.4624954973013\n",
      "Mean Squared Error (MSE)  = 481780.64966685674\n",
      "RMSE                      = 694.1042066338863\n"
     ]
    }
   ],
   "source": [
    "from sklearn import metrics\n",
    "\n",
    "print('Mean Absolute Error (MAE) =',metrics.mean_absolute_error(y_test,y_pred))\n",
    "print('Mean Squared Error (MSE)  =',metrics.mean_squared_error(y_test,y_pred))\n",
    "print('RMSE                      =',np.sqrt(metrics.mean_squared_error(y_test,y_pred)))"
   ]
  },
  {
   "cell_type": "markdown",
   "metadata": {},
   "source": [
    "# DATA 2"
   ]
  },
  {
   "cell_type": "markdown",
   "metadata": {},
   "source": [
    "Diberikan data mengenai survey kebahagiaan warga yang terdiri dari 7 atribut sebagai berikut\n",
    "<ul>\n",
    "    <li>D = decision attribute (D) with values 0 (unhappy) and 1 (happy)</li>\n",
    "    <li>X1 = the availability of information about the city services</li>\n",
    "    <li>X2 = the cost of housing</li>\n",
    "    <li>X3 = the overall quality of public schools</li>\n",
    "    <li>X4 = your trust in the local police</li>\n",
    "    <li>X5 = the maintenance of streets and sidewalks</li>\n",
    "    <li>X6 = the availability of social community events</li>\n",
    "</ul>"
   ]
  },
  {
   "cell_type": "markdown",
   "metadata": {},
   "source": [
    "“proyekklasifikasi.csv”, diakses di :\n",
    "https://project2koleksidata.s3.amazonaws.com/proyekklasifikasi.csv"
   ]
  },
  {
   "cell_type": "markdown",
   "metadata": {},
   "source": [
    "Sumber: https://archive.ics.uci.edu/ml/datasets/Somerville+Happiness+Survey"
   ]
  },
  {
   "cell_type": "markdown",
   "metadata": {},
   "source": [
    "Terapkan beberapa model klasifikasi dan pilihlah manakah model yang terbaik di antara model yang\n",
    "Anda terapkan beserta dengan penjelasannya."
   ]
  },
  {
   "cell_type": "code",
   "execution_count": 20,
   "metadata": {},
   "outputs": [
    {
     "data": {
      "text/html": [
       "<div>\n",
       "<style scoped>\n",
       "    .dataframe tbody tr th:only-of-type {\n",
       "        vertical-align: middle;\n",
       "    }\n",
       "\n",
       "    .dataframe tbody tr th {\n",
       "        vertical-align: top;\n",
       "    }\n",
       "\n",
       "    .dataframe thead th {\n",
       "        text-align: right;\n",
       "    }\n",
       "</style>\n",
       "<table border=\"1\" class=\"dataframe\">\n",
       "  <thead>\n",
       "    <tr style=\"text-align: right;\">\n",
       "      <th></th>\n",
       "      <th>D</th>\n",
       "      <th>X1</th>\n",
       "      <th>X2</th>\n",
       "      <th>X3</th>\n",
       "      <th>X4</th>\n",
       "      <th>X5</th>\n",
       "      <th>X6</th>\n",
       "    </tr>\n",
       "  </thead>\n",
       "  <tbody>\n",
       "    <tr>\n",
       "      <th>0</th>\n",
       "      <td>0</td>\n",
       "      <td>3</td>\n",
       "      <td>3</td>\n",
       "      <td>3</td>\n",
       "      <td>4</td>\n",
       "      <td>2</td>\n",
       "      <td>4</td>\n",
       "    </tr>\n",
       "    <tr>\n",
       "      <th>1</th>\n",
       "      <td>0</td>\n",
       "      <td>3</td>\n",
       "      <td>2</td>\n",
       "      <td>3</td>\n",
       "      <td>5</td>\n",
       "      <td>4</td>\n",
       "      <td>3</td>\n",
       "    </tr>\n",
       "    <tr>\n",
       "      <th>2</th>\n",
       "      <td>1</td>\n",
       "      <td>5</td>\n",
       "      <td>3</td>\n",
       "      <td>3</td>\n",
       "      <td>3</td>\n",
       "      <td>3</td>\n",
       "      <td>5</td>\n",
       "    </tr>\n",
       "    <tr>\n",
       "      <th>3</th>\n",
       "      <td>0</td>\n",
       "      <td>5</td>\n",
       "      <td>4</td>\n",
       "      <td>3</td>\n",
       "      <td>3</td>\n",
       "      <td>3</td>\n",
       "      <td>5</td>\n",
       "    </tr>\n",
       "    <tr>\n",
       "      <th>4</th>\n",
       "      <td>0</td>\n",
       "      <td>5</td>\n",
       "      <td>4</td>\n",
       "      <td>3</td>\n",
       "      <td>3</td>\n",
       "      <td>3</td>\n",
       "      <td>5</td>\n",
       "    </tr>\n",
       "    <tr>\n",
       "      <th>5</th>\n",
       "      <td>1</td>\n",
       "      <td>5</td>\n",
       "      <td>5</td>\n",
       "      <td>3</td>\n",
       "      <td>5</td>\n",
       "      <td>5</td>\n",
       "      <td>5</td>\n",
       "    </tr>\n",
       "    <tr>\n",
       "      <th>6</th>\n",
       "      <td>0</td>\n",
       "      <td>3</td>\n",
       "      <td>1</td>\n",
       "      <td>2</td>\n",
       "      <td>2</td>\n",
       "      <td>1</td>\n",
       "      <td>3</td>\n",
       "    </tr>\n",
       "    <tr>\n",
       "      <th>7</th>\n",
       "      <td>1</td>\n",
       "      <td>5</td>\n",
       "      <td>4</td>\n",
       "      <td>4</td>\n",
       "      <td>4</td>\n",
       "      <td>4</td>\n",
       "      <td>5</td>\n",
       "    </tr>\n",
       "    <tr>\n",
       "      <th>8</th>\n",
       "      <td>0</td>\n",
       "      <td>4</td>\n",
       "      <td>1</td>\n",
       "      <td>4</td>\n",
       "      <td>4</td>\n",
       "      <td>4</td>\n",
       "      <td>4</td>\n",
       "    </tr>\n",
       "    <tr>\n",
       "      <th>9</th>\n",
       "      <td>0</td>\n",
       "      <td>4</td>\n",
       "      <td>4</td>\n",
       "      <td>4</td>\n",
       "      <td>2</td>\n",
       "      <td>5</td>\n",
       "      <td>5</td>\n",
       "    </tr>\n",
       "  </tbody>\n",
       "</table>\n",
       "</div>"
      ],
      "text/plain": [
       "   D  X1  X2  X3  X4  X5  X6\n",
       "0  0   3   3   3   4   2   4\n",
       "1  0   3   2   3   5   4   3\n",
       "2  1   5   3   3   3   3   5\n",
       "3  0   5   4   3   3   3   5\n",
       "4  0   5   4   3   3   3   5\n",
       "5  1   5   5   3   5   5   5\n",
       "6  0   3   1   2   2   1   3\n",
       "7  1   5   4   4   4   4   5\n",
       "8  0   4   1   4   4   4   4\n",
       "9  0   4   4   4   2   5   5"
      ]
     },
     "execution_count": 20,
     "metadata": {},
     "output_type": "execute_result"
    }
   ],
   "source": [
    "import numpy as np\n",
    "import pandas as pd\n",
    "import matplotlib.pyplot as plt\n",
    "\n",
    "proyekklasifikasi = pd.read_csv(\"proyekklasifikasi.csv\")\n",
    "proyekklasifikasi.head(10)"
   ]
  },
  {
   "cell_type": "code",
   "execution_count": 21,
   "metadata": {},
   "outputs": [
    {
     "name": "stdout",
     "output_type": "stream",
     "text": [
      "<class 'pandas.core.frame.DataFrame'>\n",
      "RangeIndex: 143 entries, 0 to 142\n",
      "Data columns (total 7 columns):\n",
      "D     143 non-null int64\n",
      "X1    143 non-null int64\n",
      "X2    143 non-null int64\n",
      "X3    143 non-null int64\n",
      "X4    143 non-null int64\n",
      "X5    143 non-null int64\n",
      "X6    143 non-null int64\n",
      "dtypes: int64(7)\n",
      "memory usage: 7.9 KB\n"
     ]
    }
   ],
   "source": [
    "# Variabel independen\n",
    "proyekklasifikasi.info()"
   ]
  },
  {
   "cell_type": "code",
   "execution_count": 22,
   "metadata": {},
   "outputs": [
    {
     "data": {
      "text/plain": [
       "0    0\n",
       "1    0\n",
       "2    1\n",
       "3    0\n",
       "4    0\n",
       "Name: D, dtype: int64"
      ]
     },
     "execution_count": 22,
     "metadata": {},
     "output_type": "execute_result"
    }
   ],
   "source": [
    "# Variabel independen\n",
    "x = proyekklasifikasi.drop(['D'], axis = 1)\n",
    "x.head()\n",
    "# Variabel dependen\n",
    "y = proyekklasifikasi['D']\n",
    "y.head()"
   ]
  },
  {
   "cell_type": "markdown",
   "metadata": {},
   "source": [
    "#### Sekolah - Polisi"
   ]
  },
  {
   "cell_type": "code",
   "execution_count": 23,
   "metadata": {},
   "outputs": [
    {
     "data": {
      "image/png": "[encoded data removed]",
      "text/plain": [
       "<Figure size 432x288 with 1 Axes>"
      ]
     },
     "metadata": {
      "needs_background": "light"
     },
     "output_type": "display_data"
    }
   ],
   "source": [
    "sekolah = proyekklasifikasi['X3']\n",
    "sekolah.head(10)\n",
    "polisi = proyekklasifikasi['X4']\n",
    "polisi.head(10)\n",
    "plt.bar(sekolah,polisi,color='green', width=0.5)\n",
    "plt.xlabel('SEKOLAH')\n",
    "plt.ylabel('POLISI')\n",
    "plt.show()"
   ]
  },
  {
   "cell_type": "markdown",
   "metadata": {},
   "source": [
    "Dengan menggunakan script diatas menghasilkan Grafik yang rata-ratanya sama rata, artinya tingkat kepuasan masyarakat terhadap kualitas sekolah umum tinggi dengan rata-rata berada di angka 5 dan kepercayaan masyarakat terhadap polisi juga tinggi dengan rata-rata berada diangka 5."
   ]
  },
  {
   "cell_type": "markdown",
   "metadata": {},
   "source": [
    "#### City Services - Cost of housing"
   ]
  },
  {
   "cell_type": "code",
   "execution_count": 24,
   "metadata": {},
   "outputs": [
    {
     "data": {
      "image/png": "[encoded data removed]",
      "text/plain": [
       "<Figure size 432x288 with 1 Axes>"
      ]
     },
     "metadata": {
      "needs_background": "light"
     },
     "output_type": "display_data"
    }
   ],
   "source": [
    "service = proyekklasifikasi['X1']\n",
    "service.head(10)\n",
    "housing = proyekklasifikasi['X2']\n",
    "housing.head(10)\n",
    "plt.bar(service,housing,color='blue', width=0.5)\n",
    "plt.xlabel('City Services')\n",
    "plt.ylabel('Cost of housing')\n",
    "plt.show()"
   ]
  },
  {
   "cell_type": "markdown",
   "metadata": {},
   "source": [
    "#### Maintenance of Streets and Sidewalks - Social Community Events"
   ]
  },
  {
   "cell_type": "code",
   "execution_count": 25,
   "metadata": {},
   "outputs": [
    {
     "data": {
      "image/png": "[encoded data removed]",
      "text/plain": [
       "<Figure size 432x288 with 1 Axes>"
      ]
     },
     "metadata": {
      "needs_background": "light"
     },
     "output_type": "display_data"
    }
   ],
   "source": [
    "service = proyekklasifikasi['X5']\n",
    "service.head(10)\n",
    "housing = proyekklasifikasi['X6']\n",
    "housing.head(10)\n",
    "plt.bar(service,housing,color='m', width=0.5)\n",
    "plt.xlabel('Maintenance of Streets and Sidewalks')\n",
    "plt.ylabel('Social Community Events')\n",
    "plt.show()"
   ]
  },
  {
   "cell_type": "markdown",
   "metadata": {},
   "source": [
    "### Klasifikasi menggunakan K-Nearest Neighbor"
   ]
  },
  {
   "cell_type": "code",
   "execution_count": 27,
   "metadata": {},
   "outputs": [],
   "source": [
    "# Train Test Split \n",
    "from sklearn.model_selection import train_test_split\n",
    "x_train, x_test, y_train, y_test = train_test_split(x, y, test_size = 0.2, random_state = 123)"
   ]
  },
  {
   "cell_type": "markdown",
   "metadata": {},
   "source": [
    "Sebelum masuk ke bagian klasifikasi terlebih dahulu kita menentukan mana yang dijadikan testing dan mana yang dijadikan training, dengan sampel dipilih secara random sebanyak 20%."
   ]
  },
  {
   "cell_type": "code",
   "execution_count": 28,
   "metadata": {},
   "outputs": [
    {
     "data": {
      "text/plain": [
       "KNeighborsClassifier(algorithm='auto', leaf_size=30, metric='minkowski',\n",
       "                     metric_params=None, n_jobs=None, n_neighbors=2, p=2,\n",
       "                     weights='uniform')"
      ]
     },
     "execution_count": 28,
     "metadata": {},
     "output_type": "execute_result"
    }
   ],
   "source": [
    "from sklearn.preprocessing import StandardScaler  \n",
    "scaler = StandardScaler()  \n",
    "scaler.fit(x_train)\n",
    "\n",
    "x_train = scaler.transform(x_train)\n",
    "x_test = scaler.transform(x_test)\n",
    "from sklearn.neighbors import KNeighborsClassifier  \n",
    "classifier = KNeighborsClassifier(n_neighbors=2) #menentukan nilai k(banyaknya tetangga terdekat yg menjadi acuan klasifikasi) \n",
    "classifier.fit(x_train, y_train)"
   ]
  },
  {
   "cell_type": "markdown",
   "metadata": {},
   "source": [
    "Kemudian terdapat proses impor class StandardScaler dari library scikit-learn dan sublibrary preprocessing untuk melakukan transformasi selanjutnya mendefinisikan scaler sebagai variabel proses dari StandarScaler nantinya Kita ingin menormalisasi variabel X (independen) dan dilakukan pengkonversian X_train menjadi X_train yang sudah di rescale. Terdapat sklean,neighbors dan importKneighborsClassifier digunakan untuk mendefinisikan sebgai classifier dengan jumlah ketetanggannya 5."
   ]
  },
  {
   "cell_type": "markdown",
   "metadata": {},
   "source": [
    "### Confussion Matrix"
   ]
  },
  {
   "cell_type": "code",
   "execution_count": 29,
   "metadata": {},
   "outputs": [
    {
     "name": "stdout",
     "output_type": "stream",
     "text": [
      "[0 0 1 1 1 0 1 1 0 1 1 0 0 0 0 1 1 0 0 1 0 1 1 0 0 1 0 0 0]\n"
     ]
    }
   ],
   "source": [
    "from pycm import *\n",
    "y_pred = classifier.predict(x_test)\n",
    "print(y_pred)"
   ]
  },
  {
   "cell_type": "code",
   "execution_count": 30,
   "metadata": {},
   "outputs": [],
   "source": [
    "y_actual1=y_test.tolist()\n",
    "y_pred1=y_pred.tolist()"
   ]
  },
  {
   "cell_type": "markdown",
   "metadata": {},
   "source": [
    "Hasil Prediksi Confusion Matrix"
   ]
  },
  {
   "cell_type": "code",
   "execution_count": 31,
   "metadata": {},
   "outputs": [
    {
     "name": "stdout",
     "output_type": "stream",
     "text": [
      "Predict  0        1        \n",
      "Actual\n",
      "0        11       6        \n",
      "\n",
      "1        5        7        \n",
      "\n",
      "\n",
      "\n",
      "\n",
      "\n",
      "Overall Statistics : \n",
      "\n",
      "95% CI                                                            (0.44409,0.79729)\n",
      "ACC Macro                                                         0.62069\n",
      "AUNP                                                              0.6152\n",
      "AUNU                                                              0.6152\n",
      "Bennett S                                                         0.24138\n",
      "CBA                                                               0.59276\n",
      "Chi-Squared                                                       1.50973\n",
      "Chi-Squared DF                                                    1\n",
      "Conditional Entropy                                               0.95454\n",
      "Cramer V                                                          0.22817\n",
      "Cross Entropy                                                     0.98194\n",
      "F1 Macro                                                          0.61333\n",
      "F1 Micro                                                          0.62069\n",
      "Gwet AC1                                                          0.25554\n",
      "Hamming Loss                                                      0.37931\n",
      "Joint Entropy                                                     1.93299\n",
      "KL Divergence                                                     0.00349\n",
      "Kappa                                                             0.2276\n",
      "Kappa 95% CI                                                      (-0.13201,0.58722)\n",
      "Kappa No Prevalence                                               0.24138\n",
      "Kappa Standard Error                                              0.18348\n",
      "Kappa Unbiased                                                    0.22667\n",
      "Lambda A                                                          0.08333\n",
      "Lambda B                                                          0.15385\n",
      "Mutual Information                                                0.03772\n",
      "NIR                                                               0.58621\n",
      "Overall ACC                                                       0.62069\n",
      "Overall CEN                                                       0.90227\n",
      "Overall J                                                         (0.88889,0.44444)\n",
      "Overall MCC                                                       0.22817\n",
      "Overall MCEN                                                      0.70145\n",
      "Overall RACC                                                      0.50892\n",
      "Overall RACCU                                                     0.50951\n",
      "P-Value                                                           0.42963\n",
      "PPV Macro                                                         0.61298\n",
      "PPV Micro                                                         0.62069\n",
      "Pearson C                                                         0.22245\n",
      "Phi-Squared                                                       0.05206\n",
      "RCI                                                               0.03855\n",
      "RR                                                                14.5\n",
      "Reference Entropy                                                 0.97845\n",
      "Response Entropy                                                  0.99227\n",
      "SOA1(Landis & Koch)                                               Fair\n",
      "SOA2(Fleiss)                                                      Poor\n",
      "SOA3(Altman)                                                      Fair\n",
      "SOA4(Cicchetti)                                                   Poor\n",
      "SOA5(Cramer)                                                      Moderate\n",
      "SOA6(Matthews)                                                    Negligible\n",
      "Scott PI                                                          0.22667\n",
      "Standard Error                                                    0.0901\n",
      "TPR Macro                                                         0.6152\n",
      "TPR Micro                                                         0.62069\n",
      "Zero-one Loss                                                     11\n",
      "\n",
      "Class Statistics :\n",
      "\n",
      "Classes                                                           0             1             \n",
      "ACC(Accuracy)                                                     0.62069       0.62069       \n",
      "AGF(Adjusted F-score)                                             0.59839       0.62418       \n",
      "AGM(Adjusted geometric mean)                                      0.60529       0.62645       \n",
      "AM(Difference between automatic and manual classification)        -1            1             \n",
      "AUC(Area under the ROC curve)                                     0.6152        0.6152        \n",
      "AUCI(AUC value interpretation)                                    Fair          Fair          \n",
      "AUPR(Area under the PR curve)                                     0.66728       0.5609        \n",
      "BCD(Bray-Curtis dissimilarity)                                    0.01724       0.01724       \n",
      "BM(Informedness or bookmaker informedness)                        0.23039       0.23039       \n",
      "CEN(Confusion entropy)                                            0.85966       0.95852       \n",
      "DOR(Diagnostic odds ratio)                                        2.56667       2.56667       \n",
      "DP(Discriminant power)                                            0.2257        0.2257        \n",
      "DPI(Discriminant power interpretation)                            Poor          Poor          \n",
      "ERR(Error rate)                                                   0.37931       0.37931       \n",
      "F0.5(F0.5 score)                                                  0.67901       0.54688       \n",
      "F1(F1 score - harmonic mean of precision and sensitivity)         0.66667       0.56          \n",
      "F2(F2 score)                                                      0.65476       0.57377       \n",
      "FDR(False discovery rate)                                         0.3125        0.46154       \n",
      "FN(False negative/miss/type 2 error)                              6             5             \n",
      "FNR(Miss rate or false negative rate)                             0.35294       0.41667       \n",
      "FOR(False omission rate)                                          0.46154       0.3125        \n",
      "FP(False positive/type 1 error/false alarm)                       5             6             \n",
      "FPR(Fall-out or false positive rate)                              0.41667       0.35294       \n",
      "G(G-measure geometric mean of precision and sensitivity)          0.66697       0.56045       \n",
      "GI(Gini index)                                                    0.23039       0.23039       \n",
      "GM(G-mean geometric mean of specificity and sensitivity)          0.61437       0.61437       \n",
      "IBA(Index of balanced accuracy)                                   0.4015        0.3534        \n",
      "IS(Information score)                                             0.22995       0.37993       \n",
      "J(Jaccard index)                                                  0.5           0.38889       \n",
      "LS(Lift score)                                                    1.17279       1.30128       \n",
      "MCC(Matthews correlation coefficient)                             0.22817       0.22817       \n",
      "MCCI(Matthews correlation coefficient interpretation)             Negligible    Negligible    \n",
      "MCEN(Modified confusion entropy)                                  0.99702       1.04165       \n",
      "MK(Markedness)                                                    0.22596       0.22596       \n",
      "N(Condition negative)                                             12            17            \n",
      "NLR(Negative likelihood ratio)                                    0.60504       0.64394       \n",
      "NLRI(Negative likelihood ratio interpretation)                    Negligible    Negligible    \n",
      "NPV(Negative predictive value)                                    0.53846       0.6875        \n",
      "OC(Overlap coefficient)                                           0.6875        0.58333       \n",
      "OOC(Otsuka-Ochiai coefficient)                                    0.66697       0.56045       \n",
      "OP(Optimized precision)                                           0.5689        0.5689        \n",
      "P(Condition positive or support)                                  17            12            \n",
      "PLR(Positive likelihood ratio)                                    1.55294       1.65278       \n",
      "PLRI(Positive likelihood ratio interpretation)                    Poor          Poor          \n",
      "POP(Population)                                                   29            29            \n",
      "PPV(Precision or positive predictive value)                       0.6875        0.53846       \n",
      "PRE(Prevalence)                                                   0.58621       0.41379       \n",
      "Q(Yule Q - coefficient of colligation)                            0.43925       0.43925       \n",
      "RACC(Random accuracy)                                             0.32342       0.18549       \n",
      "RACCU(Random accuracy unbiased)                                   0.32372       0.18579       \n",
      "TN(True negative/correct rejection)                               7             11            \n",
      "TNR(Specificity or true negative rate)                            0.58333       0.64706       \n",
      "TON(Test outcome negative)                                        13            16            \n",
      "TOP(Test outcome positive)                                        16            13            \n",
      "TP(True positive/hit)                                             11            7             \n",
      "TPR(Sensitivity, recall, hit rate, or true positive rate)         0.64706       0.58333       \n",
      "Y(Youden index)                                                   0.23039       0.23039       \n",
      "dInd(Distance index)                                              0.54606       0.54606       \n",
      "sInd(Similarity index)                                            0.61388       0.61388       \n",
      "\n"
     ]
    }
   ],
   "source": [
    "print(ConfusionMatrix(y_actual1,y_pred1))"
   ]
  },
  {
   "cell_type": "markdown",
   "metadata": {},
   "source": [
    "Confusion matrix dilakukan agar terlihat lebih rapi, dari gambar diatas dapat dijelaskan bahwa 6 merupakan true positif, 5 merupakan false positive, 2 merupakan false negative dan 7 merupakan true negative, dimana 0 adalah treatment tidak bahagia dan 1 merupakan treatmen bahagia."
   ]
  },
  {
   "cell_type": "code",
   "execution_count": 32,
   "metadata": {},
   "outputs": [
    {
     "name": "stdout",
     "output_type": "stream",
     "text": [
      "[[11  6]\n",
      " [ 5  7]]\n",
      "              precision    recall  f1-score   support\n",
      "\n",
      "           0       0.69      0.65      0.67        17\n",
      "           1       0.54      0.58      0.56        12\n",
      "\n",
      "    accuracy                           0.62        29\n",
      "   macro avg       0.61      0.62      0.61        29\n",
      "weighted avg       0.63      0.62      0.62        29\n",
      "\n"
     ]
    }
   ],
   "source": [
    "from sklearn.metrics import classification_report, confusion_matrix \n",
    "print(confusion_matrix(y_test, y_pred)) \n",
    "print(classification_report(y_test, y_pred))"
   ]
  },
  {
   "cell_type": "code",
   "execution_count": 33,
   "metadata": {},
   "outputs": [
    {
     "name": "stdout",
     "output_type": "stream",
     "text": [
      "Accuracy =  0.6206896551724138\n"
     ]
    }
   ],
   "source": [
    "#acuracy = (TP+TN)/jumlah\n",
    "accuracy = (6+7)/29\n",
    "accuracy\n",
    "#Recall TP/(TP+FN)\n",
    "recall= (6)/(6+11)\n",
    "recall\n",
    "from sklearn.metrics import accuracy_score\n",
    "print ('Accuracy = ', accuracy_score(y_actual1, y_pred1))"
   ]
  },
  {
   "cell_type": "markdown",
   "metadata": {},
   "source": [
    "Accuracy adalah perbandingan kasus yang diindentifikasi benar dengan jumlah semua kasus, dengan menggunakan script diatas menghasilkan nilai 0.4482758620689655 dan Recall digunakan untuk meminimalisir kecacatan data dan didapatkan nilai 0.35294117647058826, pada “accuracy_score(y_actual1, y_pred1)’’ digunakan untuk mencari nilai akurasi dan didapatkan nilai keakurasiannya sebesar 0.4482758620689655"
   ]
  },
  {
   "cell_type": "markdown",
   "metadata": {},
   "source": [
    "KNeighborsClassifier(n_neighbors=2) Accuracy =  0.6206896551724138"
   ]
  },
  {
   "cell_type": "code",
   "execution_count": 34,
   "metadata": {},
   "outputs": [
    {
     "data": {
      "image/png": "[encoded data removed]",
      "text/plain": [
       "<Figure size 864x432 with 1 Axes>"
      ]
     },
     "metadata": {
      "needs_background": "light"
     },
     "output_type": "display_data"
    }
   ],
   "source": [
    "error = []\n",
    "for i in range(1, 40): \n",
    " knn = KNeighborsClassifier(n_neighbors=i) \n",
    " knn.fit(x_train, y_train) \n",
    " pred_i = knn.predict(x_test) \n",
    " error.append(np.mean(pred_i != y_test))\n",
    "# membuat plot \n",
    "plt.figure(figsize=(12,6))  \n",
    "plt.plot(range(1, 40), error, color='red', linestyle='dashed', marker='o',           \n",
    "         markerfacecolor='black', markersize=10) \n",
    "plt.title('Error Rate K Value')  \n",
    "plt.xlabel('K Value')  \n",
    "plt.ylabel('Mean Error') \n",
    "plt.show()"
   ]
  },
  {
   "cell_type": "code",
   "execution_count": 35,
   "metadata": {},
   "outputs": [
    {
     "name": "stdout",
     "output_type": "stream",
     "text": [
      "(143, 7)\n",
      "[0 1]\n",
      "D\n",
      "0    66\n",
      "1    77\n",
      "dtype: int64\n"
     ]
    }
   ],
   "source": [
    "print(proyekklasifikasi.shape)\n",
    "print(proyekklasifikasi['D'].unique())\n",
    "print(proyekklasifikasi.groupby('D').size())"
   ]
  },
  {
   "cell_type": "code",
   "execution_count": 36,
   "metadata": {},
   "outputs": [
    {
     "data": {
      "image/png": "[encoded data removed]",
      "text/plain": [
       "<Figure size 432x288 with 1 Axes>"
      ]
     },
     "metadata": {
      "needs_background": "light"
     },
     "output_type": "display_data"
    }
   ],
   "source": [
    "import seaborn as sns\n",
    "sns.countplot(proyekklasifikasi['D'],label=\"Count\")\n",
    "plt.show()"
   ]
  },
  {
   "cell_type": "code",
   "execution_count": 37,
   "metadata": {},
   "outputs": [
    {
     "data": {
      "image/png": "[encoded data removed]",
      "text/plain": [
       "<Figure size 648x648 with 6 Axes>"
      ]
     },
     "metadata": {
      "needs_background": "light"
     },
     "output_type": "display_data"
    }
   ],
   "source": [
    "import pylab as pl\n",
    "proyekklasifikasi.drop('D' ,axis=1).hist(bins=30, figsize=(9,9))\n",
    "pl.suptitle(\"Histogram for each numeric input variable\")\n",
    "plt.savefig('d_hist')\n",
    "plt.show()"
   ]
  },
  {
   "cell_type": "code",
   "execution_count": 38,
   "metadata": {},
   "outputs": [
    {
     "data": {
      "image/png": "[encoded data removed]",
      "text/plain": [
       "<Figure size 648x648 with 36 Axes>"
      ]
     },
     "metadata": {
      "needs_background": "light"
     },
     "output_type": "display_data"
    }
   ],
   "source": [
    "from pandas.plotting import scatter_matrix\n",
    "from matplotlib import cm\n",
    "proyekklasifikasi_names = ['X1','X2','X3','X4','X5','X6']\n",
    "X = proyekklasifikasi[proyekklasifikasi_names]\n",
    "y = proyekklasifikasi['D']\n",
    "cmap = cm.get_cmap('gnuplot')\n",
    "scatter = scatter_matrix(X, c = y, marker = 'o', s=40, hist_kwds={'bins':15}, figsize=(9,9), cmap = cmap)\n",
    "plt.suptitle('Scatter-matrix for each input variable')\n",
    "plt.savefig('fruits_scatter_matrix')"
   ]
  },
  {
   "cell_type": "markdown",
   "metadata": {},
   "source": [
    "### Logistic Regression"
   ]
  },
  {
   "cell_type": "code",
   "execution_count": 39,
   "metadata": {},
   "outputs": [
    {
     "name": "stdout",
     "output_type": "stream",
     "text": [
      "Accuracy of Logistic regression classifier on training set: 0.68\n",
      "Accuracy of Logistic regression classifier on test set: 0.41\n"
     ]
    },
    {
     "name": "stderr",
     "output_type": "stream",
     "text": [
      "C:\\Users\\iS\\Anaconda3\\lib\\site-packages\\sklearn\\linear_model\\logistic.py:432: FutureWarning: Default solver will be changed to 'lbfgs' in 0.22. Specify a solver to silence this warning.\n",
      "  FutureWarning)\n"
     ]
    }
   ],
   "source": [
    "from sklearn.linear_model import LogisticRegression\n",
    "logreg = LogisticRegression()\n",
    "logreg.fit(x_train, y_train)\n",
    "print('Accuracy of Logistic regression classifier on training set: {:.2f}'\n",
    "     .format(logreg.score(x_train, y_train)))\n",
    "print('Accuracy of Logistic regression classifier on test set: {:.2f}'\n",
    "     .format(logreg.score(x_test, y_test)))"
   ]
  },
  {
   "cell_type": "markdown",
   "metadata": {},
   "source": [
    "### Decision Tree"
   ]
  },
  {
   "cell_type": "code",
   "execution_count": 40,
   "metadata": {},
   "outputs": [],
   "source": [
    "#pip install graphviz"
   ]
  },
  {
   "cell_type": "code",
   "execution_count": 41,
   "metadata": {},
   "outputs": [],
   "source": [
    "#pip install -U scikit-learn"
   ]
  },
  {
   "cell_type": "code",
   "execution_count": 42,
   "metadata": {},
   "outputs": [
    {
     "name": "stdout",
     "output_type": "stream",
     "text": [
      "Accuracy of Decision Tree classifier on training set: 0.96\n",
      "Accuracy of Decision Tree classifier on test set: 0.59\n"
     ]
    }
   ],
   "source": [
    "from sklearn.tree import DecisionTreeClassifier\n",
    "from sklearn import tree\n",
    "clf = tree.DecisionTreeClassifier().fit(x_train, y_train)\n",
    "print('Accuracy of Decision Tree classifier on training set: {:.2f}'.format(clf.score(x_train, y_train)))\n",
    "print('Accuracy of Decision Tree classifier on test set: {:.2f}'.format(clf.score(x_test, y_test)))"
   ]
  },
  {
   "cell_type": "markdown",
   "metadata": {},
   "source": [
    "### K-Nearest Neighbors"
   ]
  },
  {
   "cell_type": "code",
   "execution_count": 43,
   "metadata": {},
   "outputs": [
    {
     "name": "stdout",
     "output_type": "stream",
     "text": [
      "Accuracy of K-NN classifier on training set: 0.73\n",
      "Accuracy of K-NN classifier on test set: 0.45\n"
     ]
    }
   ],
   "source": [
    "from sklearn.neighbors import KNeighborsClassifier\n",
    "knn = KNeighborsClassifier()\n",
    "knn.fit(x_train, y_train)\n",
    "print('Accuracy of K-NN classifier on training set: {:.2f}'\n",
    "     .format(knn.score(x_train, y_train)))\n",
    "print('Accuracy of K-NN classifier on test set: {:.2f}'\n",
    "     .format(knn.score(x_test, y_test)))"
   ]
  },
  {
   "cell_type": "markdown",
   "metadata": {},
   "source": [
    "### Linear Discriminant Analysis"
   ]
  },
  {
   "cell_type": "code",
   "execution_count": 44,
   "metadata": {},
   "outputs": [
    {
     "name": "stdout",
     "output_type": "stream",
     "text": [
      "Accuracy of LDA classifier on training set: 0.68\n",
      "Accuracy of LDA classifier on test set: 0.41\n"
     ]
    }
   ],
   "source": [
    "from sklearn.discriminant_analysis import LinearDiscriminantAnalysis\n",
    "lda = LinearDiscriminantAnalysis()\n",
    "lda.fit(x_train, y_train)\n",
    "print('Accuracy of LDA classifier on training set: {:.2f}'\n",
    "     .format(lda.score(x_train, y_train)))\n",
    "print('Accuracy of LDA classifier on test set: {:.2f}'\n",
    "     .format(lda.score(x_test, y_test)))"
   ]
  },
  {
   "cell_type": "markdown",
   "metadata": {},
   "source": [
    "### Gaussian Naive Bayes"
   ]
  },
  {
   "cell_type": "code",
   "execution_count": 45,
   "metadata": {},
   "outputs": [
    {
     "name": "stdout",
     "output_type": "stream",
     "text": [
      "Accuracy of GNB classifier on training set: 0.65\n",
      "Accuracy of GNB classifier on test set: 0.48\n"
     ]
    }
   ],
   "source": [
    "from sklearn.naive_bayes import GaussianNB\n",
    "gnb = GaussianNB()\n",
    "gnb.fit(x_train, y_train)\n",
    "print('Accuracy of GNB classifier on training set: {:.2f}'\n",
    "     .format(gnb.score(x_train, y_train)))\n",
    "print('Accuracy of GNB classifier on test set: {:.2f}'\n",
    "     .format(gnb.score(x_test, y_test)))"
   ]
  },
  {
   "cell_type": "markdown",
   "metadata": {},
   "source": [
    "### Support Vector Machine"
   ]
  },
  {
   "cell_type": "code",
   "execution_count": 46,
   "metadata": {},
   "outputs": [
    {
     "name": "stdout",
     "output_type": "stream",
     "text": [
      "Accuracy of SVM classifier on training set: 0.80\n",
      "Accuracy of SVM classifier on test set: 0.48\n"
     ]
    }
   ],
   "source": [
    "from sklearn.svm import SVC\n",
    "svm = SVC()\n",
    "svm.fit(x_train, y_train)\n",
    "print('Accuracy of SVM classifier on training set: {:.2f}'\n",
    "     .format(svm.score(x_train, y_train)))\n",
    "print('Accuracy of SVM classifier on test set: {:.2f}'\n",
    "     .format(svm.score(x_test, y_test)))"
   ]
  },
  {
   "cell_type": "code",
   "execution_count": 47,
   "metadata": {},
   "outputs": [
    {
     "name": "stdout",
     "output_type": "stream",
     "text": [
      "[[ 6 11]\n",
      " [ 5  7]]\n",
      "              precision    recall  f1-score   support\n",
      "\n",
      "           0       0.55      0.35      0.43        17\n",
      "           1       0.39      0.58      0.47        12\n",
      "\n",
      "    accuracy                           0.45        29\n",
      "   macro avg       0.47      0.47      0.45        29\n",
      "weighted avg       0.48      0.45      0.44        29\n",
      "\n"
     ]
    }
   ],
   "source": [
    "from sklearn.metrics import classification_report\n",
    "from sklearn.metrics import confusion_matrix\n",
    "pred = knn.predict(x_test)\n",
    "print(confusion_matrix(y_test, pred))\n",
    "print(classification_report(y_test, pred))"
   ]
  }
 ],
 "metadata": {
  "kernelspec": {
   "display_name": "Python 3",
   "language": "python",
   "name": "python3"
  },
  "language_info": {
   "codemirror_mode": {
    "name": "ipython",
    "version": 3
   },
   "file_extension": ".py",
   "mimetype": "text/x-python",
   "name": "python",
   "nbconvert_exporter": "python",
   "pygments_lexer": "ipython3",
   "version": "3.7.3"
  }
 },
 "nbformat": 4,
 "nbformat_minor": 2
}
