{
 "cells": [
  {
   "cell_type": "markdown",
   "metadata": {},
   "source": [
    "# DATA 1"
   ]
  },
  {
   "cell_type": "markdown",
   "metadata": {},
   "source": [
    "Dari data Biaya Iklan dan Pendapatan tersebut deskripsikan dalam bentuk visual dan berikan\n",
    "penjelasan informasi apa yang bisa diberikan sehingga bisa membantu pengambilan\n",
    "keputusan"
   ]
  },
  {
   "cell_type": "code",
   "execution_count": 267,
   "metadata": {},
   "outputs": [
    {
     "data": {
      "text/html": [
       "<div>\n",
       "<style scoped>\n",
       "    .dataframe tbody tr th:only-of-type {\n",
       "        vertical-align: middle;\n",
       "    }\n",
       "\n",
       "    .dataframe tbody tr th {\n",
       "        vertical-align: top;\n",
       "    }\n",
       "\n",
       "    .dataframe thead th {\n",
       "        text-align: right;\n",
       "    }\n",
       "</style>\n",
       "<table border=\"1\" class=\"dataframe\">\n",
       "  <thead>\n",
       "    <tr style=\"text-align: right;\">\n",
       "      <th></th>\n",
       "      <th>biaya_iklan</th>\n",
       "      <th>pendapatan</th>\n",
       "    </tr>\n",
       "  </thead>\n",
       "  <tbody>\n",
       "    <tr>\n",
       "      <th>0</th>\n",
       "      <td>10.0</td>\n",
       "      <td>2244.366205</td>\n",
       "    </tr>\n",
       "    <tr>\n",
       "      <th>1</th>\n",
       "      <td>11.2</td>\n",
       "      <td>1473.934847</td>\n",
       "    </tr>\n",
       "    <tr>\n",
       "      <th>2</th>\n",
       "      <td>12.4</td>\n",
       "      <td>1893.448438</td>\n",
       "    </tr>\n",
       "    <tr>\n",
       "      <th>3</th>\n",
       "      <td>13.6</td>\n",
       "      <td>1665.540897</td>\n",
       "    </tr>\n",
       "    <tr>\n",
       "      <th>4</th>\n",
       "      <td>14.8</td>\n",
       "      <td>1931.386153</td>\n",
       "    </tr>\n",
       "    <tr>\n",
       "      <th>5</th>\n",
       "      <td>16.0</td>\n",
       "      <td>1789.442439</td>\n",
       "    </tr>\n",
       "    <tr>\n",
       "      <th>6</th>\n",
       "      <td>17.2</td>\n",
       "      <td>2344.919817</td>\n",
       "    </tr>\n",
       "    <tr>\n",
       "      <th>7</th>\n",
       "      <td>18.4</td>\n",
       "      <td>1961.630387</td>\n",
       "    </tr>\n",
       "    <tr>\n",
       "      <th>8</th>\n",
       "      <td>19.6</td>\n",
       "      <td>1687.757462</td>\n",
       "    </tr>\n",
       "    <tr>\n",
       "      <th>9</th>\n",
       "      <td>20.8</td>\n",
       "      <td>2716.530200</td>\n",
       "    </tr>\n",
       "  </tbody>\n",
       "</table>\n",
       "</div>"
      ],
      "text/plain": [
       "   biaya_iklan   pendapatan\n",
       "0         10.0  2244.366205\n",
       "1         11.2  1473.934847\n",
       "2         12.4  1893.448438\n",
       "3         13.6  1665.540897\n",
       "4         14.8  1931.386153\n",
       "5         16.0  1789.442439\n",
       "6         17.2  2344.919817\n",
       "7         18.4  1961.630387\n",
       "8         19.6  1687.757462\n",
       "9         20.8  2716.530200"
      ]
     },
     "execution_count": 267,
     "metadata": {},
     "output_type": "execute_result"
    }
   ],
   "source": [
    "import numpy as np\n",
    "import pandas as pd\n",
    "\n",
    "df = pd.read_csv(\"advertising.csv\")\n",
    "df.head(10)\n",
    "#print(max(df['biaya_iklan']))"
   ]
  },
  {
   "cell_type": "markdown",
   "metadata": {},
   "source": [
    "Menurut Anda apakah data di atas dapat didekati dengan model regresi linear? Jelaskan\n",
    "pendapat Anda, beri penjelasan mana variable independen dan mana variable dependen"
   ]
  },
  {
   "cell_type": "markdown",
   "metadata": {},
   "source": [
    "<ul>\n",
    "    <li>Variabel Indenpenden = Biaya Iklan</li>\n",
    "    <li>Variabel Dpenden     = Pendapatan</li>\n",
    "</ul>"
   ]
  },
  {
   "cell_type": "markdown",
   "metadata": {},
   "source": [
    "Terapkan model regresi linear dan beberapa model regresi non linear, manakah yang terbaik\n",
    "berdasarkan MAE, MSE, dan R2"
   ]
  },
  {
   "cell_type": "code",
   "execution_count": 268,
   "metadata": {},
   "outputs": [],
   "source": [
    "import numpy as np\n",
    "from sklearn.linear_model import LinearRegression"
   ]
  },
  {
   "cell_type": "code",
   "execution_count": 269,
   "metadata": {},
   "outputs": [],
   "source": [
    "x = np.array(df['biaya_iklan']).reshape((-1, 1))\n",
    "y = np.array(df['pendapatan'])"
   ]
  },
  {
   "cell_type": "code",
   "execution_count": 270,
   "metadata": {},
   "outputs": [],
   "source": [
    "model = LinearRegression()"
   ]
  },
  {
   "cell_type": "code",
   "execution_count": 271,
   "metadata": {},
   "outputs": [
    {
     "data": {
      "text/plain": [
       "LinearRegression(copy_X=True, fit_intercept=True, n_jobs=None, normalize=False)"
      ]
     },
     "execution_count": 271,
     "metadata": {},
     "output_type": "execute_result"
    }
   ],
   "source": [
    "model.fit(x,y)"
   ]
  },
  {
   "cell_type": "code",
   "execution_count": 272,
   "metadata": {},
   "outputs": [],
   "source": [
    "model = LinearRegression().fit(x,y)"
   ]
  },
  {
   "cell_type": "code",
   "execution_count": 273,
   "metadata": {},
   "outputs": [
    {
     "name": "stdout",
     "output_type": "stream",
     "text": [
      "Intercept 2255.727321644724\n",
      "Slope [21.23340718]\n"
     ]
    }
   ],
   "source": [
    "print ('Intercept', model.intercept_)\n",
    "print ('Slope', model.coef_)"
   ]
  },
  {
   "cell_type": "code",
   "execution_count": 274,
   "metadata": {},
   "outputs": [
    {
     "name": "stdout",
     "output_type": "stream",
     "text": [
      "predicted response:\n",
      "[2468.06139346 2493.54148208 2519.0215707  2544.50165931 2569.98174793\n",
      " 2595.46183655 2620.94192517 2646.42201378 2671.9021024  2697.38219102\n",
      " 2722.86227964 2748.34236826 2773.82245687 2799.30254549 2824.78263411\n",
      " 2850.26272273 2875.74281134 2901.22289996 2926.70298858 2952.1830772\n",
      " 2977.66316582 3003.14325443 3028.62334305 3054.10343167 3079.58352029\n",
      " 3105.0636089  3130.54369752 3156.02378614 3181.50387476 3206.98396338\n",
      " 3232.46405199 3257.94414061 3283.42422923 3308.90431785 3334.38440646\n",
      " 3359.86449508 3385.3445837  3410.82467232 3436.30476094 3461.78484955\n",
      " 3487.26493817 3512.74502679 3538.22511541 3563.70520402 3589.18529264\n",
      " 3614.66538126 3640.14546988 3665.6255585  3691.10564711 3716.58573573\n",
      " 3742.06582435 3767.54591297 3793.02600158 3818.5060902  3843.98617882\n",
      " 3869.46626744 3894.94635606 3920.42644467 3945.90653329 3971.38662191\n",
      " 3996.86671053 4022.34679914 4047.82688776 4073.30697638 4098.787065\n",
      " 4124.26715362 4149.74724223 4175.22733085 4200.70741947 4226.18750809\n",
      " 4251.6675967  4277.14768532 4302.62777394 4328.10786256 4353.58795118\n",
      " 4379.06803979 4404.54812841 4430.02821703 4455.50830565 4480.98839426\n",
      " 4506.46848288 4531.9485715  4557.42866012 4582.90874874 4608.38883735\n",
      " 4633.86892597 4659.34901459 4684.82910321 4710.30919182 4735.78928044\n",
      " 4761.26936906 4786.74945768 4812.2295463  4837.70963491 4863.18972353\n",
      " 4888.66981215 4914.14990077 4939.62998938 4965.110078   4990.59016662]\n"
     ]
    }
   ],
   "source": [
    "y_pred = model.predict(x)\n",
    "print('predicted response:', y_pred, sep='\\n')"
   ]
  },
  {
   "cell_type": "code",
   "execution_count": 277,
   "metadata": {},
   "outputs": [
    {
     "name": "stdout",
     "output_type": "stream",
     "text": [
      "predicted response:\n",
      "[ 49911.26881678  33552.38608698  42460.08898285  37620.83536507\n",
      "  43265.63593298  40251.68725677  52046.36460395  43907.8240684\n",
      "  38092.56873589  59936.91917905  47517.45460105  47443.76055791\n",
      "  48360.01490464  66616.28292267  42444.7207311   46975.17491231\n",
      "  77858.56031458  44084.15883057  49032.48839735  69822.36412217\n",
      "  67246.16557668  67492.76807448  66406.34998824  52599.12663128\n",
      "  72417.99157496  72123.96143818  98339.45866686  73036.16578852\n",
      "  85911.72796591  59083.99455215  78037.71232522  82253.29427292\n",
      "  90799.46900326  98312.30659606  69224.73900554  90602.22423992\n",
      "  81918.23236037  82260.72885318  86855.45572982  89640.44292019\n",
      "  77712.52829985 100728.39104625 100565.81315378  77234.66019427\n",
      "  98750.32199575 116128.36523014  57599.33701336  78232.28790064\n",
      "  74725.67016002  98198.78235443  86482.28337612  82548.98768619\n",
      "  84155.69901121  98535.08867205  86000.00598366  86872.9036664\n",
      " 108989.50877152  99924.62466595  96190.32451871  77102.27731095\n",
      "  97758.74160621  99479.96851817  92419.63733981 102341.16062331\n",
      "  96203.57968547 107213.87014952 102077.68580536  92231.28748431\n",
      "  78126.07916232  92540.95182127 105213.0165065   94628.83294052\n",
      "  92063.3664385   92393.60970532 106354.58325065  88808.52739075\n",
      "  99874.36270684  88569.93814726  88558.78752964  98322.64314608\n",
      "  90495.69116131  86897.91131171 103238.69466399  90136.06117744\n",
      "  94372.0628257   81006.49342508 104760.19294988 115114.16807694\n",
      "  96490.42738871  83029.30901471  78847.2789292  110470.62574583\n",
      " 105236.70470789  92687.67629986 120702.95585098  81183.50517198\n",
      "  91976.20954464  82969.20832282  99014.91199224  87950.55774876]\n"
     ]
    }
   ],
   "source": [
    "pendapatan_pre = np.array(df['pendapatan']).reshape((-1, 1))\n",
    "pendapatan_pred = model.predict(pendapatan_pre)\n",
    "print('predicted response:', pendapatan_pred, sep='\\n')"
   ]
  },
  {
   "cell_type": "code",
   "execution_count": 281,
   "metadata": {},
   "outputs": [],
   "source": [
    "import numpy as np\n",
    "import statsmodels.api as sm\n",
    "x = sm.add_constant(x)"
   ]
  },
  {
   "cell_type": "code",
   "execution_count": 282,
   "metadata": {},
   "outputs": [],
   "source": [
    "model = sm.OLS(y, x)"
   ]
  },
  {
   "cell_type": "code",
   "execution_count": 283,
   "metadata": {},
   "outputs": [],
   "source": [
    "results = model.fit()"
   ]
  },
  {
   "cell_type": "code",
   "execution_count": 284,
   "metadata": {},
   "outputs": [
    {
     "name": "stdout",
     "output_type": "stream",
     "text": [
      "                            OLS Regression Results                            \n",
      "==============================================================================\n",
      "Dep. Variable:                      y   R-squared:                       0.569\n",
      "Model:                            OLS   Adj. R-squared:                  0.564\n",
      "Method:                 Least Squares   F-statistic:                     129.2\n",
      "Date:                Mon, 19 Aug 2019   Prob (F-statistic):           1.34e-19\n",
      "Time:                        10:38:55   Log-Likelihood:                -788.12\n",
      "No. Observations:                 100   AIC:                             1580.\n",
      "Df Residuals:                      98   BIC:                             1585.\n",
      "Df Model:                           1                                         \n",
      "Covariance Type:            nonrobust                                         \n",
      "==============================================================================\n",
      "                 coef    std err          t      P>|t|      [0.025      0.975]\n",
      "------------------------------------------------------------------------------\n",
      "const       2255.7273    144.882     15.569      0.000    1968.214    2543.241\n",
      "x1            21.2334      1.868     11.368      0.000      17.527      24.940\n",
      "==============================================================================\n",
      "Omnibus:                        2.091   Durbin-Watson:                   1.393\n",
      "Prob(Omnibus):                  0.352   Jarque-Bera (JB):                1.674\n",
      "Skew:                           0.155   Prob(JB):                        0.433\n",
      "Kurtosis:                       2.447   Cond. No.                         174.\n",
      "==============================================================================\n",
      "\n",
      "Warnings:\n",
      "[1] Standard Errors assume that the covariance matrix of the errors is correctly specified.\n"
     ]
    }
   ],
   "source": [
    "print(results.summary())"
   ]
  },
  {
   "cell_type": "markdown",
   "metadata": {},
   "source": [
    "### Model Linear"
   ]
  },
  {
   "cell_type": "code",
   "execution_count": 189,
   "metadata": {},
   "outputs": [
    {
     "name": "stdout",
     "output_type": "stream",
     "text": [
      "Estimated coefficients:\n",
      "b_0 = 2255.7273216447265 \\nb_1 = 21.2334071814881\n"
     ]
    },
    {
     "data": {
      "image/png": "[encoded data removed]",
      "text/plain": [
       "<Figure size 432x288 with 1 Axes>"
      ]
     },
     "metadata": {
      "needs_background": "light"
     },
     "output_type": "display_data"
    }
   ],
   "source": [
    "import numpy as np \n",
    "import matplotlib.pyplot as plt \n",
    "\n",
    "def estimate_coef(x, y): \n",
    "    # number of observations/points \n",
    "    n = np.size(x) \n",
    "  \n",
    "    # mean of x and y vector \n",
    "    m_x, m_y = np.mean(x), np.mean(y) \n",
    "  \n",
    "    # calculating cross-deviation and deviation about x \n",
    "    SS_xy = np.sum(y*x) - n*m_y*m_x \n",
    "    SS_xx = np.sum(x*x) - n*m_x*m_x \n",
    "  \n",
    "    # calculating regression coefficients \n",
    "    b_1 = SS_xy / SS_xx \n",
    "    b_0 = m_y - b_1*m_x \n",
    "  \n",
    "    return(b_0, b_1) \n",
    "  \n",
    "def plot_regression_line(x, y, b): \n",
    "    # plotting the actual points as scatter plot \n",
    "    plt.scatter(x, y, color = \"m\", \n",
    "               marker = \"o\", s = 30) \n",
    "  \n",
    "    # predicted response vector \n",
    "    y_pred = b[0] + b[1]*x \n",
    "  \n",
    "    # plotting the regression line \n",
    "    plt.plot(x, y_pred, color = \"r\") \n",
    "  \n",
    "    # putting labels \n",
    "    plt.xlabel('biaya_iklan') \n",
    "    plt.ylabel('Pendapatan') \n",
    "  \n",
    "    # function to show plot \n",
    "    plt.show() \n",
    "  \n",
    "def main(): \n",
    "    # observations \n",
    "    x = np.array(df['biaya_iklan']) \n",
    "    y = np.array(df['pendapatan']) \n",
    "  \n",
    "    # estimating coefficients \n",
    "    b = estimate_coef(x, y) \n",
    "    print(\"Estimated coefficients:\\nb_0 = {} \\\\nb_1 = {}\".format(b[0], b[1])) \n",
    "  \n",
    "    # plotting regression line \n",
    "    plot_regression_line(x, y, b) \n",
    "  \n",
    "if __name__ == \"__main__\": \n",
    "    main()"
   ]
  },
  {
   "cell_type": "markdown",
   "metadata": {},
   "source": [
    "Menurut Anda apakah data di atas dapat didekati dengan model regresi linear? TIDAK, Karena tidak mewakili semua"
   ]
  },
  {
   "cell_type": "markdown",
   "metadata": {},
   "source": [
    "### Model Non Linear"
   ]
  },
  {
   "cell_type": "code",
   "execution_count": 99,
   "metadata": {},
   "outputs": [
    {
     "data": {
      "image/png": "[encoded data removed]",
      "text/plain": [
       "<Figure size 504x360 with 1 Axes>"
      ]
     },
     "metadata": {
      "needs_background": "light"
     },
     "output_type": "display_data"
    }
   ],
   "source": [
    "plt.figure(figsize=(7,5))\n",
    "x_data, y_data = (df[\"biaya_iklan\"].values, df[\"pendapatan\"].values)\n",
    "plt.plot(x_data, y_data, 'ro')\n",
    "plt.ylabel('Pendapatan')\n",
    "plt.xlabel('Biaya Iklan')\n",
    "plt.show()"
   ]
  },
  {
   "cell_type": "code",
   "execution_count": 300,
   "metadata": {},
   "outputs": [],
   "source": [
    "def expo(x, Beta_0, Beta_1, Beta_2, Beta_3, Beta_4, Beta_5):\n",
    "     #y = Beta_1 * np.exp(x-Beta_2*x)\n",
    "     y = Beta_0+Beta_1*x+Beta_2*(x**2)\n",
    "     return y"
   ]
  },
  {
   "cell_type": "code",
   "execution_count": 301,
   "metadata": {},
   "outputs": [],
   "source": [
    "xdata =x_data/max(x_data)\n",
    "ydata =y_data/max(y_data)"
   ]
  },
  {
   "cell_type": "code",
   "execution_count": 302,
   "metadata": {},
   "outputs": [
    {
     "name": "stdout",
     "output_type": "stream",
     "text": [
      " beta_1 = 2.618992, beta_2 = 0.227417\n"
     ]
    },
    {
     "name": "stderr",
     "output_type": "stream",
     "text": [
      "C:\\Users\\Mulmed\\Anaconda3\\lib\\site-packages\\scipy\\optimize\\minpack.py:787: OptimizeWarning: Covariance of the parameters could not be estimated\n",
      "  category=OptimizeWarning)\n"
     ]
    }
   ],
   "source": [
    "from scipy.optimize import curve_fit\n",
    "popt1, pcov1 = curve_fit(expo, xdata, ydata, maxfev=10000)\n",
    "print(\" beta_1 = %f, beta_2 = %f\" % (popt[0], popt[1]))"
   ]
  },
  {
   "cell_type": "code",
   "execution_count": 303,
   "metadata": {},
   "outputs": [
    {
     "data": {
      "image/png": "[encoded data removed]",
      "text/plain": [
       "<Figure size 504x360 with 1 Axes>"
      ]
     },
     "metadata": {
      "needs_background": "light"
     },
     "output_type": "display_data"
    }
   ],
   "source": [
    "x = np.linspace(1000, 60, 50)\n",
    "x = x/max(x)\n",
    "plt.figure(figsize=(7,5))\n",
    "y1 = expo(x, *popt1)\n",
    "#y2 = poli(x, *popt2)\n",
    "plt.plot(xdata, ydata, 'ro', label='data')\n",
    "plt.plot(x,y1, linewidth=3.0, label='Exponensial')\n",
    "plt.legend(loc='best')\n",
    "plt.ylabel('Biaya Iklan')\n",
    "plt.xlabel('Pendapatan')\n",
    "plt.show()"
   ]
  },
  {
   "cell_type": "markdown",
   "metadata": {},
   "source": [
    "Terapkan K-Means Klastering , pilihlah klastering terbaik (banyak klaster optimal) untuk data\n",
    "di atas"
   ]
  },
  {
   "cell_type": "code",
   "execution_count": 310,
   "metadata": {},
   "outputs": [
    {
     "data": {
      "image/png": "[encoded data removed]",
      "text/plain": [
       "<Figure size 432x288 with 1 Axes>"
      ]
     },
     "metadata": {
      "needs_background": "light"
     },
     "output_type": "display_data"
    }
   ],
   "source": [
    "import seaborn as sns\n",
    "sns.countplot(df['pendapatan'],label=\"Count\")\n",
    "plt.show()"
   ]
  },
  {
   "cell_type": "markdown",
   "metadata": {},
   "source": [
    "# DATA 2"
   ]
  },
  {
   "cell_type": "markdown",
   "metadata": {},
   "source": [
    "Diberikan data mengenai survey kebahagiaan warga yang terdiri dari 7 atribut sebagai berikut\n",
    "<ul>\n",
    "    <li>D = decision attribute (D) with values 0 (unhappy) and 1 (happy)</li>\n",
    "    <li>X1 = the availability of information about the city services</li>\n",
    "    <li>X2 = the cost of housing</li>\n",
    "    <li>X3 = the overall quality of public schools</li>\n",
    "    <li>X4 = your trust in the local police</li>\n",
    "    <li>X5 = the maintenance of streets and sidewalks</li>\n",
    "    <li>X6 = the availability of social community events</li>\n",
    "</ul>"
   ]
  },
  {
   "cell_type": "markdown",
   "metadata": {},
   "source": [
    "Terapkan beberapa model klasifikasi dan pilihlah manakah model yang terbaik di antara model yang\n",
    "Anda terapkan beserta dengan penjelasannya."
   ]
  },
  {
   "cell_type": "code",
   "execution_count": 69,
   "metadata": {},
   "outputs": [
    {
     "data": {
      "text/html": [
       "<div>\n",
       "<style scoped>\n",
       "    .dataframe tbody tr th:only-of-type {\n",
       "        vertical-align: middle;\n",
       "    }\n",
       "\n",
       "    .dataframe tbody tr th {\n",
       "        vertical-align: top;\n",
       "    }\n",
       "\n",
       "    .dataframe thead th {\n",
       "        text-align: right;\n",
       "    }\n",
       "</style>\n",
       "<table border=\"1\" class=\"dataframe\">\n",
       "  <thead>\n",
       "    <tr style=\"text-align: right;\">\n",
       "      <th></th>\n",
       "      <th>D</th>\n",
       "      <th>X1</th>\n",
       "      <th>X2</th>\n",
       "      <th>X3</th>\n",
       "      <th>X4</th>\n",
       "      <th>X5</th>\n",
       "      <th>X6</th>\n",
       "    </tr>\n",
       "  </thead>\n",
       "  <tbody>\n",
       "    <tr>\n",
       "      <th>0</th>\n",
       "      <td>0</td>\n",
       "      <td>3</td>\n",
       "      <td>3</td>\n",
       "      <td>3</td>\n",
       "      <td>4</td>\n",
       "      <td>2</td>\n",
       "      <td>4</td>\n",
       "    </tr>\n",
       "    <tr>\n",
       "      <th>1</th>\n",
       "      <td>0</td>\n",
       "      <td>3</td>\n",
       "      <td>2</td>\n",
       "      <td>3</td>\n",
       "      <td>5</td>\n",
       "      <td>4</td>\n",
       "      <td>3</td>\n",
       "    </tr>\n",
       "    <tr>\n",
       "      <th>2</th>\n",
       "      <td>1</td>\n",
       "      <td>5</td>\n",
       "      <td>3</td>\n",
       "      <td>3</td>\n",
       "      <td>3</td>\n",
       "      <td>3</td>\n",
       "      <td>5</td>\n",
       "    </tr>\n",
       "    <tr>\n",
       "      <th>3</th>\n",
       "      <td>0</td>\n",
       "      <td>5</td>\n",
       "      <td>4</td>\n",
       "      <td>3</td>\n",
       "      <td>3</td>\n",
       "      <td>3</td>\n",
       "      <td>5</td>\n",
       "    </tr>\n",
       "    <tr>\n",
       "      <th>4</th>\n",
       "      <td>0</td>\n",
       "      <td>5</td>\n",
       "      <td>4</td>\n",
       "      <td>3</td>\n",
       "      <td>3</td>\n",
       "      <td>3</td>\n",
       "      <td>5</td>\n",
       "    </tr>\n",
       "    <tr>\n",
       "      <th>5</th>\n",
       "      <td>1</td>\n",
       "      <td>5</td>\n",
       "      <td>5</td>\n",
       "      <td>3</td>\n",
       "      <td>5</td>\n",
       "      <td>5</td>\n",
       "      <td>5</td>\n",
       "    </tr>\n",
       "    <tr>\n",
       "      <th>6</th>\n",
       "      <td>0</td>\n",
       "      <td>3</td>\n",
       "      <td>1</td>\n",
       "      <td>2</td>\n",
       "      <td>2</td>\n",
       "      <td>1</td>\n",
       "      <td>3</td>\n",
       "    </tr>\n",
       "    <tr>\n",
       "      <th>7</th>\n",
       "      <td>1</td>\n",
       "      <td>5</td>\n",
       "      <td>4</td>\n",
       "      <td>4</td>\n",
       "      <td>4</td>\n",
       "      <td>4</td>\n",
       "      <td>5</td>\n",
       "    </tr>\n",
       "    <tr>\n",
       "      <th>8</th>\n",
       "      <td>0</td>\n",
       "      <td>4</td>\n",
       "      <td>1</td>\n",
       "      <td>4</td>\n",
       "      <td>4</td>\n",
       "      <td>4</td>\n",
       "      <td>4</td>\n",
       "    </tr>\n",
       "    <tr>\n",
       "      <th>9</th>\n",
       "      <td>0</td>\n",
       "      <td>4</td>\n",
       "      <td>4</td>\n",
       "      <td>4</td>\n",
       "      <td>2</td>\n",
       "      <td>5</td>\n",
       "      <td>5</td>\n",
       "    </tr>\n",
       "  </tbody>\n",
       "</table>\n",
       "</div>"
      ],
      "text/plain": [
       "   D  X1  X2  X3  X4  X5  X6\n",
       "0  0   3   3   3   4   2   4\n",
       "1  0   3   2   3   5   4   3\n",
       "2  1   5   3   3   3   3   5\n",
       "3  0   5   4   3   3   3   5\n",
       "4  0   5   4   3   3   3   5\n",
       "5  1   5   5   3   5   5   5\n",
       "6  0   3   1   2   2   1   3\n",
       "7  1   5   4   4   4   4   5\n",
       "8  0   4   1   4   4   4   4\n",
       "9  0   4   4   4   2   5   5"
      ]
     },
     "execution_count": 69,
     "metadata": {},
     "output_type": "execute_result"
    }
   ],
   "source": [
    "import numpy as np\n",
    "import pandas as pd\n",
    "import matplotlib.pyplot as plt\n",
    "\n",
    "data = pd.read_csv(\"proyekklasifikasi.csv\", encoding='ISO-8859-1')\n",
    "data.head(10)"
   ]
  },
  {
   "cell_type": "code",
   "execution_count": 103,
   "metadata": {},
   "outputs": [
    {
     "name": "stdout",
     "output_type": "stream",
     "text": [
      "<class 'pandas.core.frame.DataFrame'>\n",
      "RangeIndex: 143 entries, 0 to 142\n",
      "Data columns (total 7 columns):\n",
      "D     143 non-null int64\n",
      "X1    143 non-null int64\n",
      "X2    143 non-null int64\n",
      "X3    143 non-null int64\n",
      "X4    143 non-null int64\n",
      "X5    143 non-null int64\n",
      "X6    143 non-null int64\n",
      "dtypes: int64(7)\n",
      "memory usage: 7.9 KB\n"
     ]
    }
   ],
   "source": [
    "data.info()"
   ]
  },
  {
   "cell_type": "code",
   "execution_count": 70,
   "metadata": {},
   "outputs": [
    {
     "name": "stdout",
     "output_type": "stream",
     "text": [
      "(143, 7)\n",
      "[0 1]\n",
      "D\n",
      "0    66\n",
      "1    77\n",
      "dtype: int64\n"
     ]
    }
   ],
   "source": [
    "print(data.shape)\n",
    "print(data['D'].unique())\n",
    "print(data.groupby('D').size())"
   ]
  },
  {
   "cell_type": "code",
   "execution_count": 72,
   "metadata": {},
   "outputs": [
    {
     "data": {
      "image/png": "[encoded data removed]",
      "text/plain": [
       "<Figure size 432x288 with 1 Axes>"
      ]
     },
     "metadata": {
      "needs_background": "light"
     },
     "output_type": "display_data"
    }
   ],
   "source": [
    "import seaborn as sns\n",
    "sns.countplot(data['D'],label=\"Count\")\n",
    "plt.show()"
   ]
  },
  {
   "cell_type": "code",
   "execution_count": 90,
   "metadata": {},
   "outputs": [
    {
     "data": {
      "image/png": "[encoded data removed]",
      "text/plain": [
       "<Figure size 1080x1080 with 36 Axes>"
      ]
     },
     "metadata": {
      "needs_background": "light"
     },
     "output_type": "display_data"
    }
   ],
   "source": [
    "data.drop('D', axis=1).plot(kind='box', subplots=True, layout=(6,6), sharex=False, sharey=False, figsize=(15,15), title='Box Plot for each input variable')\n",
    "plt.savefig('d_box')\n",
    "plt.show()"
   ]
  },
  {
   "cell_type": "code",
   "execution_count": 79,
   "metadata": {},
   "outputs": [
    {
     "data": {
      "image/png": "[encoded data removed]",
      "text/plain": [
       "<Figure size 432x432 with 6 Axes>"
      ]
     },
     "metadata": {
      "needs_background": "light"
     },
     "output_type": "display_data"
    }
   ],
   "source": [
    "import pylab as pl\n",
    "data.drop('D' ,axis=1).hist(bins=30, figsize=(6,6))\n",
    "pl.suptitle(\"Histogram for each numeric input variable\")\n",
    "plt.savefig('d_hist')\n",
    "plt.show()"
   ]
  },
  {
   "cell_type": "code",
   "execution_count": 81,
   "metadata": {},
   "outputs": [
    {
     "data": {
      "image/png": "[encoded data removed]",
      "text/plain": [
       "<Figure size 648x648 with 36 Axes>"
      ]
     },
     "metadata": {
      "needs_background": "light"
     },
     "output_type": "display_data"
    }
   ],
   "source": [
    "from pandas.plotting import scatter_matrix #aslinya: pandas.tools.plotting\n",
    "from matplotlib import cm\n",
    "feature_names = ['X1', 'X2', 'X3', 'X4','X5','X6']\n",
    "X = data[feature_names]\n",
    "y = data['D']\n",
    "cmap = cm.get_cmap('gnuplot')\n",
    "scatter = scatter_matrix(X, c = y, marker = 'o', s=40, hist_kwds={'bins':15}, figsize=(9,9), cmap = cmap)\n",
    "plt.suptitle('Scatter-matrix for each input variable')\n",
    "plt.savefig('d_scatter_matrix')"
   ]
  },
  {
   "cell_type": "markdown",
   "metadata": {},
   "source": [
    "### Decision Tree"
   ]
  },
  {
   "cell_type": "code",
   "execution_count": 91,
   "metadata": {},
   "outputs": [
    {
     "name": "stdout",
     "output_type": "stream",
     "text": [
      "Accuracy of Decision Tree classifier on training set: 0.94\n",
      "Accuracy of Decision Tree classifier on test set: 0.61\n"
     ]
    }
   ],
   "source": [
    "from sklearn.tree import DecisionTreeClassifier\n",
    "from sklearn import tree\n",
    "clf = DecisionTreeClassifier().fit(X_train, y_train)\n",
    "print('Accuracy of Decision Tree classifier on training set: {:.2f}'.format(clf.score(X_train, y_train)))\n",
    "print('Accuracy of Decision Tree classifier on test set: {:.2f}'.format(clf.score(X_test, y_test)))"
   ]
  },
  {
   "cell_type": "markdown",
   "metadata": {},
   "source": [
    "### K-Nearest Neighbors"
   ]
  },
  {
   "cell_type": "code",
   "execution_count": 92,
   "metadata": {},
   "outputs": [
    {
     "name": "stdout",
     "output_type": "stream",
     "text": [
      "Accuracy of K-NN classifier on training set: 0.69\n",
      "Accuracy of K-NN classifier on test set: 0.36\n"
     ]
    }
   ],
   "source": [
    "from sklearn.neighbors import KNeighborsClassifier\n",
    "knn = KNeighborsClassifier()\n",
    "knn.fit(X_train, y_train)\n",
    "print('Accuracy of K-NN classifier on training set: {:.2f}'\n",
    "     .format(knn.score(X_train, y_train)))\n",
    "print('Accuracy of K-NN classifier on test set: {:.2f}'\n",
    "     .format(knn.score(X_test, y_test)))"
   ]
  },
  {
   "cell_type": "markdown",
   "metadata": {},
   "source": [
    "### Linear Discriminant Analysis"
   ]
  },
  {
   "cell_type": "code",
   "execution_count": 93,
   "metadata": {},
   "outputs": [
    {
     "name": "stdout",
     "output_type": "stream",
     "text": [
      "Accuracy of LDA classifier on training set: 0.63\n",
      "Accuracy of LDA classifier on test set: 0.56\n"
     ]
    }
   ],
   "source": [
    "from sklearn.discriminant_analysis import LinearDiscriminantAnalysis\n",
    "lda = LinearDiscriminantAnalysis()\n",
    "lda.fit(X_train, y_train)\n",
    "print('Accuracy of LDA classifier on training set: {:.2f}'\n",
    "     .format(lda.score(X_train, y_train)))\n",
    "print('Accuracy of LDA classifier on test set: {:.2f}'\n",
    "     .format(lda.score(X_test, y_test)))"
   ]
  },
  {
   "cell_type": "markdown",
   "metadata": {},
   "source": [
    "### Gaussian Naive Bayes"
   ]
  },
  {
   "cell_type": "code",
   "execution_count": 94,
   "metadata": {},
   "outputs": [
    {
     "name": "stdout",
     "output_type": "stream",
     "text": [
      "Accuracy of GNB classifier on training set: 0.64\n",
      "Accuracy of GNB classifier on test set: 0.53\n"
     ]
    }
   ],
   "source": [
    "from sklearn.naive_bayes import GaussianNB\n",
    "gnb = GaussianNB()\n",
    "gnb.fit(X_train, y_train)\n",
    "print('Accuracy of GNB classifier on training set: {:.2f}'\n",
    "     .format(gnb.score(X_train, y_train)))\n",
    "print('Accuracy of GNB classifier on test set: {:.2f}'\n",
    "     .format(gnb.score(X_test, y_test)))"
   ]
  },
  {
   "cell_type": "markdown",
   "metadata": {},
   "source": [
    "### Support Vector Machine"
   ]
  },
  {
   "cell_type": "code",
   "execution_count": 95,
   "metadata": {},
   "outputs": [
    {
     "name": "stdout",
     "output_type": "stream",
     "text": [
      "Accuracy of SVM classifier on training set: 0.64\n",
      "Accuracy of SVM classifier on test set: 0.53\n"
     ]
    },
    {
     "name": "stderr",
     "output_type": "stream",
     "text": [
      "C:\\Users\\iS\\Anaconda3\\lib\\site-packages\\sklearn\\svm\\base.py:196: FutureWarning: The default value of gamma will change from 'auto' to 'scale' in version 0.22 to account better for unscaled features. Set gamma explicitly to 'auto' or 'scale' to avoid this warning.\n",
      "  \"avoid this warning.\", FutureWarning)\n"
     ]
    }
   ],
   "source": [
    "from sklearn.svm import SVC\n",
    "svm = SVC()\n",
    "svm.fit(X_train, y_train)\n",
    "print('Accuracy of SVM classifier on training set: {:.2f}'\n",
    "     .format(svm.score(X_train, y_train)))\n",
    "print('Accuracy of SVM classifier on test set: {:.2f}'\n",
    "     .format(svm.score(X_test, y_test)))"
   ]
  },
  {
   "cell_type": "code",
   "execution_count": 96,
   "metadata": {},
   "outputs": [
    {
     "name": "stdout",
     "output_type": "stream",
     "text": [
      "[[ 4 14]\n",
      " [ 9  9]]\n",
      "              precision    recall  f1-score   support\n",
      "\n",
      "           0       0.31      0.22      0.26        18\n",
      "           1       0.39      0.50      0.44        18\n",
      "\n",
      "   micro avg       0.36      0.36      0.36        36\n",
      "   macro avg       0.35      0.36      0.35        36\n",
      "weighted avg       0.35      0.36      0.35        36\n",
      "\n"
     ]
    }
   ],
   "source": [
    "from sklearn.metrics import classification_report\n",
    "from sklearn.metrics import confusion_matrix\n",
    "pred = knn.predict(X_test)\n",
    "print(confusion_matrix(y_test, pred))\n",
    "print(classification_report(y_test, pred))"
   ]
  }
 ],
 "metadata": {
  "kernelspec": {
   "display_name": "Python 3",
   "language": "python",
   "name": "python3"
  },
  "language_info": {
   "codemirror_mode": {
    "name": "ipython",
    "version": 3
   },
   "file_extension": ".py",
   "mimetype": "text/x-python",
   "name": "python",
   "nbconvert_exporter": "python",
   "pygments_lexer": "ipython3",
   "version": "3.7.3"
  }
 },
 "nbformat": 4,
 "nbformat_minor": 2
}
